{
 "cells": [
  {
   "cell_type": "code",
   "execution_count": 14,
   "metadata": {},
   "outputs": [],
   "source": [
    "\n",
    "\n",
    "import json\n",
    "\n",
    "def dictionary(path):\n",
    "    purchases = {}\n",
    "\n",
    "    with open('purchase_log.txt', 'r') as f:\n",
    "        for line in f:\n",
    "            dict_line = json.loads(line)  \n",
    "            purchases[dict_line['user_id']] = dict_line['category']\n",
    "        del(purchases['user_id'])\n",
    "    return purchases\n",
    "    \n",
    "purchases = dictionary('purchase_log.txt')"
   ]
  },
  {
   "cell_type": "code",
   "execution_count": 18,
   "metadata": {},
   "outputs": [],
   "source": [
    "\n",
    "# Задача 2.Запиcать в файл funnel.csv визиты из файла visit_log.csv, \n",
    "#в которых были покупки с указанием категории.\n",
    "\n",
    "purchases = dictionary('purchase_log.txt')\n",
    "\n",
    "with open('visit_log.csv', 'r') as f:\n",
    "    with open('funnel.csv', 'w') as funnel:\n",
    "        for line in f:\n",
    "            v = line.strip().split(',')\n",
    "            if v[0] in purchases:\n",
    "                funnel.write(f'{v[0]}, {v[1]}, {purchases[v[0]]}\\n')"
   ]
  },
  {
   "cell_type": "code",
   "execution_count": null,
   "metadata": {},
   "outputs": [],
   "source": []
  }
 ],
 "metadata": {
  "kernelspec": {
   "display_name": "Python 3",
   "language": "python",
   "name": "python3"
  },
  "language_info": {
   "codemirror_mode": {
    "name": "ipython",
    "version": 3
   },
   "file_extension": ".py",
   "mimetype": "text/x-python",
   "name": "python",
   "nbconvert_exporter": "python",
   "pygments_lexer": "ipython3",
   "version": "3.8.5"
  }
 },
 "nbformat": 4,
 "nbformat_minor": 4
}
