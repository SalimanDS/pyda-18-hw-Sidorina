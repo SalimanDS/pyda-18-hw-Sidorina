{
 "cells": [
  {
   "cell_type": "code",
   "execution_count": 1,
   "metadata": {},
   "outputs": [
    {
     "name": "stdout",
     "output_type": "stream",
     "text": [
      "{'1840e0b9d4': 'Продукты', '4e4f90fcfb': 'Электроника', 'afea8d72fc': 'Электроника', '373a6055fe': 'Бытовая техника', '9b2ab046f3': 'Электроника'}\n"
     ]
    }
   ],
   "source": [
    "# Задача 1. Задача - замутить словарь purchases вида:{‘1840e0b9d4’: ‘Продукты’, …}\n",
    "import json\n",
    "\n",
    "final = {}\n",
    "with open('purchase_log.txt') as f:\n",
    "    for i, a in enumerate(f):        \n",
    "        if i > 0:\n",
    "            data = json.loads(a)\n",
    "            final[data['user_id']] = data['category']\n",
    "            if i == 5: break  \n",
    "f.close()\n",
    "print(final)"
   ]
  },
  {
   "cell_type": "code",
   "execution_count": 2,
   "metadata": {},
   "outputs": [
    {
     "data": {
      "text/plain": [
       "'Потом, спустя 5 дней мучений :D, я поняла, что выкрутиться, решив первую часть задания таким образом, я не смогу, и пришлось все делать заново через функцию. А был ли все-таки вариант обойтись без функции?'"
      ]
     },
     "execution_count": 2,
     "metadata": {},
     "output_type": "execute_result"
    }
   ],
   "source": [
    "\"\"\"Потом, спустя 5 дней мучений :D, я поняла, что выкрутиться, решив первую часть задания таким образом, я не смогу, и пришлось все делать заново через функцию. А был ли все-таки вариант обойтись без функции?\"\"\"\n",
    "\n",
    "\n",
    "\n",
    "\n"
   ]
  },
  {
   "cell_type": "code",
   "execution_count": null,
   "metadata": {},
   "outputs": [],
   "source": []
  }
 ],
 "metadata": {
  "kernelspec": {
   "display_name": "Python 3",
   "language": "python",
   "name": "python3"
  },
  "language_info": {
   "codemirror_mode": {
    "name": "ipython",
    "version": 3
   },
   "file_extension": ".py",
   "mimetype": "text/x-python",
   "name": "python",
   "nbconvert_exporter": "python",
   "pygments_lexer": "ipython3",
   "version": "3.8.5"
  }
 },
 "nbformat": 4,
 "nbformat_minor": 4
}
