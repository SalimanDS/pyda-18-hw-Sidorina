{
 "cells": [
  {
   "cell_type": "code",
   "execution_count": 1,
   "metadata": {},
   "outputs": [
    {
     "name": "stdout",
     "output_type": "stream",
     "text": [
      "Фраза 1 длиннее фразы 2\n"
     ]
    }
   ],
   "source": [
    "p1 = 'Большинство исследователей считает публичную дипломатию формой \"мягкой силы\"'\n",
    "p2 = 'Движение Франкофонии сформировалось благодаря колониальной экспансии'\n",
    "\n",
    "if len(p1) > len(p2):\n",
    "    print('Фраза 1 длиннее фразы 2')\n",
    "elif len(p1) < len(p2):\n",
    "    print('Фраза 2 длиннее фразы 1')\n",
    "else: print('Фразы равной длины')\n"
   ]
  },
  {
   "cell_type": "code",
   "execution_count": 2,
   "metadata": {},
   "outputs": [
    {
     "name": "stdout",
     "output_type": "stream",
     "text": [
      "2008\n",
      "Результат: високосный год\n"
     ]
    }
   ],
   "source": [
    "year = int(input())\n",
    "if (year % 4 == 0) and (year % 100 != 0) or (year % 400 == 0):  \n",
    "    print('Результат: високосный год')\n",
    "else:\n",
    "    print('Результат: невисокосный год')\n",
    "    \n",
    "    \n",
    "    # распределение високосных годов: год, номер которого кратен 400, — високосный; \n",
    "    # остальные годы, номер которых кратен 100, — невисокосные; \n",
    "    # остальные годы, номер которых кратен 4, — високосные."
   ]
  },
  {
   "cell_type": "code",
   "execution_count": 3,
   "metadata": {},
   "outputs": [
    {
     "name": "stdout",
     "output_type": "stream",
     "text": [
      "03\n",
      "11\n",
      "Знак зодиака: Скорпион\n"
     ]
    }
   ],
   "source": [
    "date = int(input())\n",
    "month = int(input())\n",
    "\n",
    "if (date >= 21 and date <= 31 and month == 3) or( month == 4 and date >= 1 and date <= 19):\n",
    "    print(\"Знак зодиака: Овен\")\n",
    "elif (date >= 20 and date <= 30 and month == 4) or( month == 5 and date >= 1 and date <= 20):\n",
    "    print(\"Знак зодиака: Телец\")\n",
    "elif (date >= 21 and date<= 31 and month == 5) or( month == 6 and date >=1 and date <= 21):\n",
    "    print(\"Знак зодиака: Близнецы\")\n",
    "elif (date >= 22 and date<= 30 and month == 6) or( month == 7 and date >=1 and date <= 22):\n",
    "    print(\"Знак зодиака: Рак\")\n",
    "elif (date >= 23 and date<= 31 and month == 7) or( month == 8 and date >=1 and date <= 22):\n",
    "    print(\"Знак зодиака: Лев\")\n",
    "elif (date >= 23 and date<= 31 and month == 8) or( month == 9 and date >=1 and date <= 22):\n",
    "    print(\"Знак зодиака: Дева\")\n",
    "elif (date >= 23 and date<= 30 and month == 9) or( month == 10 and date >=1 and date <= 23):\n",
    "    print(\"Знак зодиака: Весы\")\n",
    "elif (date >= 24 and date<= 31 and month == 10) or( month == 11 and date >=1 and date <= 22):\n",
    "    print(\"Знак зодиака: Скорпион\")\n",
    "elif (date >= 23 and date<= 30 and month == 11) or( month == 12 and date >=1 and date <= 21):\n",
    "    print(\"Знак зодиака: Стрелец\")\n",
    "elif (date >= 22 and date <= 31 and month == 12) or( month == 1 and date >=1 and date <= 20):\n",
    "    print(\"Знак зодиака: Козерог\")\n",
    "elif (date >= 21 and date <= 31 and month == 1) or( month == 2 and date >=1 and date <= 18):\n",
    "    print(\"Знак зодиака: Водолей\")\n",
    "elif (date >= 19 and date <= 29 and month == 2) or( month == 3 and date >= 1 and date <= 20):\n",
    "    print(\"Знак зодиака: Рыбы\")"
   ]
  },
  {
   "cell_type": "code",
   "execution_count": 5,
   "metadata": {},
   "outputs": [
    {
     "name": "stdout",
     "output_type": "stream",
     "text": [
      "23\n",
      "201\n",
      "55\n",
      "Упаковка для лыж\n"
     ]
    }
   ],
   "source": [
    "width = int(input())\n",
    "length = int(input())\n",
    "height = int(input())\n",
    "\n",
    "if (width > 200 or length > 200 or height > 200):\n",
    "    print('Упаковка для лыж')\n",
    "elif (width <= 15 and length <= 15 and height <= 15):\n",
    "    print('Коробка№1')\n",
    "elif (15 < width <= 50 or 15 < length <= 50  or 15 < height <= 50):\n",
    "    print('Коробка№2')\n",
    "else:\n",
    "    print('Коробка№3')"
   ]
  },
  {
   "cell_type": "code",
   "execution_count": null,
   "metadata": {},
   "outputs": [],
   "source": []
  }
 ],
 "metadata": {
  "kernelspec": {
   "display_name": "Python 3",
   "language": "python",
   "name": "python3"
  },
  "language_info": {
   "codemirror_mode": {
    "name": "ipython",
    "version": 3
   },
   "file_extension": ".py",
   "mimetype": "text/x-python",
   "name": "python",
   "nbconvert_exporter": "python",
   "pygments_lexer": "ipython3",
   "version": "3.8.5"
  }
 },
 "nbformat": 4,
 "nbformat_minor": 4
}
