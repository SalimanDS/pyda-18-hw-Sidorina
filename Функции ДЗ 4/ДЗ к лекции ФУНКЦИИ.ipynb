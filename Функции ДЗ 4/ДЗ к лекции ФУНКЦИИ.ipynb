{
 "cells": [
  {
   "cell_type": "code",
   "execution_count": 4,
   "metadata": {},
   "outputs": [
    {
     "name": "stdout",
     "output_type": "stream",
     "text": [
      "Введите номер документа:11-2\n",
      "Геннадий Покемонов\n"
     ]
    }
   ],
   "source": [
    "\n",
    "# Задание 1. Пользователь по команде \"p\" может узнать владельца документа по его номеру\n",
    "documents = [\n",
    "    {'type': 'passport', 'number': '2207 876234', 'name': 'Василий Гупкин'},\n",
    "    {'type': 'invoice', 'number': '11-2', 'name': 'Геннадий Покемонов'},\n",
    "    {'type': 'insurance', 'number': '10006', 'name': 'Аристарх Павлов'}\n",
    "]\n",
    "\n",
    "directories = {\n",
    "    '1': ['2207 876234', '11-2', '5455 028765'],\n",
    "    '2': ['10006', '5400 028765', '5455 002299'],\n",
    "    '3': []\n",
    "}\n",
    "\n",
    "\n",
    "def func_p():\n",
    "    poisk = False\n",
    "    number = input(\"Введите номер документа:\")\n",
    "    for doc in documents:\n",
    "        if \"number\" in doc.keys() and doc[\"number\"] == number:\n",
    "            print(doc[\"name\"])\n",
    "            poisk = True\n",
    "    if not poisk:\n",
    "        print(\"Документ не найден в базе\")       \n",
    "func_p()"
   ]
  },
  {
   "cell_type": "code",
   "execution_count": 12,
   "metadata": {},
   "outputs": [
    {
     "name": "stdout",
     "output_type": "stream",
     "text": [
      "Введите номер документа:11-2\n",
      "Документ хранится на 1 полке\n"
     ]
    }
   ],
   "source": [
    "# Задание 2. Пользователь по команде \"s\" может по номеру документа узнать на какой полке он хранится \n",
    "\n",
    "# полки - это directories  \n",
    "\n",
    "\n",
    "directories = {\n",
    " '1': ['2207 876234', '11-2'],\n",
    " '2': ['10006'],\n",
    " '3': []\n",
    "}\n",
    "\n",
    "\n",
    "def func_s():\n",
    "    number = input('Введите номер документа:')\n",
    "    for key, numofdoc in directories.items():\n",
    "        for i in numofdoc:\n",
    "            if i == number:\n",
    "                print('Документ хранится на', key[0], 'полке')\n",
    "                return\n",
    "    print(\"Документ не найден в базе\")\n",
    "\n",
    "func_s()"
   ]
  },
  {
   "cell_type": "code",
   "execution_count": 68,
   "metadata": {},
   "outputs": [
    {
     "name": "stdout",
     "output_type": "stream",
     "text": [
      "№ 2207 876234, тип: passport, владелец: Василий Гупкин, полка хранения: 1\n",
      "№ 11-2, тип: invoice, владелец: Геннадий Покемонов, полка хранения: 1\n",
      "№ 10006, тип: insurance, владелец: Аристарх Павлов, полка хранения: 2\n"
     ]
    }
   ],
   "source": [
    "# Задание 3. Пользователь по команде \"l\" может увидеть полную информацию по всем документам\n",
    "\n",
    "documents = [\n",
    " {'type': 'passport', 'number': '2207 876234', 'name': 'Василий Гупкин'},\n",
    " {'type': 'invoice', 'number': '11-2', 'name': 'Геннадий Покемонов'},\n",
    " {'type': 'insurance', 'number': '10006', 'name': 'Аристарх Павлов'}\n",
    "]\n",
    "\n",
    "directories = {\n",
    " '1': ['2207 876234','11-2'],\n",
    " '2': ['10006'],\n",
    " '3': []\n",
    "}\n",
    "\n",
    "def func_l():\n",
    "    for document in documents:\n",
    "        number = document['number']\n",
    "        shelf = next(key for key in directories.keys() if number in directories[key])\n",
    "        print(f\"№ {number}, тип: {document[\"type\"]}, владелец: {document[\"name\"]}, полка хранения: {shelf}\")\n",
    "        \n",
    "func_l()\n"
   ]
  },
  {
   "cell_type": "code",
   "execution_count": 63,
   "metadata": {},
   "outputs": [
    {
     "name": "stdout",
     "output_type": "stream",
     "text": [
      "Введите номер полки для добавления:4\n",
      "Полка добавлена. Текущий перечень полок: ['1', '2', '3', '4']\n"
     ]
    }
   ],
   "source": [
    "\n",
    "# Задание 4. Пользователь по команде \"ads\" может добавить новую полку.\n",
    "\n",
    "documents = [\n",
    " {'type': 'passport', 'number': '2207 876234', 'name': 'Василий Гупкин'},\n",
    " {'type': 'invoice', 'number': '11-2', 'name': 'Геннадий Покемонов'},\n",
    " {'type': 'insurance', 'number': '10006', 'name': 'Аристарх Павлов'}\n",
    "]\n",
    "\n",
    "directories = {\n",
    " '1': ['2207 876234', '11-2'],\n",
    " '2': ['10006'],\n",
    " '3': []\n",
    "}\n",
    "\n",
    "def func_ads():\n",
    "    number = input('Введите номер полки для добавления:')\n",
    "    for d in directories.items():\n",
    "        if number in d[0]:\n",
    "            print(f\"Такая полка уже существует. Текущий перечень полок: {list(directories.keys())}\")\n",
    "            break\n",
    "    else:\n",
    "        directories[number] = []\n",
    "        print(f\"Полка добавлена. Текущий перечень полок: {list(directories.keys())}\")\n",
    "func_ads()"
   ]
  },
  {
   "cell_type": "code",
   "execution_count": 69,
   "metadata": {},
   "outputs": [
    {
     "name": "stdout",
     "output_type": "stream",
     "text": [
      "Введите номер полки для удаления:4\n",
      "Такой полки не существует. Текущий перечень полок: ['1', '2', '3']\n"
     ]
    }
   ],
   "source": [
    "# Задание 5. Пользователь по команде \"ds\" может удалить полку, если она не пустая.\n",
    "\n",
    "documents = [\n",
    " {'type': 'passport', 'number': '2207 876234', 'name': 'Василий Гупкин'},\n",
    " {'type': 'invoice', 'number': '11-2', 'name': 'Геннадий Покемонов'},\n",
    " {'type': 'insurance', 'number': '10006', 'name': 'Аристарх Павлов'}\n",
    "]\n",
    "\n",
    "directories = {\n",
    " '1': ['2207 876234', '11-2'],\n",
    " '2': ['10006'],\n",
    " '3': []\n",
    "}\n",
    "\n",
    "def func_ds():\n",
    "    number = input('Введите номер полки для удаления:')\n",
    "    for d in directories.items():\n",
    "        if number in d[0]:\n",
    "            if directories[number] == []:\n",
    "                del(directories[number])\n",
    "                print(f\"Такая полка удалена. Текущий перечень полок: {list(directories.keys())}\")\n",
    "            else:\n",
    "                print(f\"На полке есть документы, удалите их перед удалением полки. Текущий перечень полок: {list(directories.keys())}\")\n",
    "            break\n",
    "    else:\n",
    "        print(f\"Такой полки не существует. Текущий перечень полок: {list(directories.keys())}\")\n",
    "func_ds()"
   ]
  },
  {
   "cell_type": "code",
   "execution_count": null,
   "metadata": {},
   "outputs": [
    {
     "name": "stdout",
     "output_type": "stream",
     "text": [
      "Для определения владельца документа введите p. Для определения полки, где хранится документ введите команду s. Для вывода полной информации по всем документам введите команду l. Для добавления новой полки введите команду  ads. Для удаления новой полки введите команду ds. Для завершения введите команду q.\n",
      "Введите одну из команд:s\n",
      "Введите номер документа:11-2\n",
      "Документ хранится на 1 полке\n"
     ]
    }
   ],
   "source": [
    "documents = [\n",
    "    {'type': 'passport', 'number': '2207 876234', 'name': 'Василий Гупкин'},\n",
    "    {'type': 'invoice', 'number': '11-2', 'name': 'Геннадий Покемонов'},\n",
    "    {'type': 'insurance', 'number': '10006', 'name': 'Аристарх Павлов'}\n",
    "]\n",
    "\n",
    "directories = {\n",
    "    '1': ['2207 876234', '11-2', '5455 028765'],\n",
    "    '2': ['10006', '5400 028765', '5455 002299'],\n",
    "    '3': []\n",
    "}\n",
    "\n",
    "print('Для определения владельца документа введите p.',\n",
    "'Для определения полки, где хранится документ введите команду s.',\n",
    "'Для вывода полной информации по всем документам введите команду l.',\n",
    "'Для добавления новой полки введите команду  ads.',\n",
    "'Для удаления новой полки введите команду ds.',\n",
    "'Для завершения введите команду q.')\n",
    "\n",
    "def main():\n",
    "    while True: \n",
    "        a = input('Введите одну из команд:')\n",
    "        if a == 'p':\n",
    "            func_p()\n",
    "        elif a == 's':\n",
    "            func_s()\n",
    "        elif a == 'l':\n",
    "            func_l()\n",
    "        elif a == 'ads':\n",
    "            func_ads()\n",
    "        elif a == 'ds':\n",
    "            func_ds()\n",
    "        elif a == 'q':\n",
    "            print('Работа завершена')\n",
    "            break\n",
    "main()"
   ]
  },
  {
   "cell_type": "code",
   "execution_count": null,
   "metadata": {},
   "outputs": [],
   "source": []
  }
 ],
 "metadata": {
  "kernelspec": {
   "display_name": "Python 3",
   "language": "python",
   "name": "python3"
  },
  "language_info": {
   "codemirror_mode": {
    "name": "ipython",
    "version": 3
   },
   "file_extension": ".py",
   "mimetype": "text/x-python",
   "name": "python",
   "nbconvert_exporter": "python",
   "pygments_lexer": "ipython3",
   "version": "3.8.5"
  }
 },
 "nbformat": 4,
 "nbformat_minor": 4
}
